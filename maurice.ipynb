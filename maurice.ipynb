{
 "cells": [
  {
   "cell_type": "code",
   "execution_count": 50,
   "metadata": {
    "collapsed": true
   },
   "outputs": [
    {
     "data": {
      "text/plain": "['dzasdf']"
     },
     "execution_count": 50,
     "metadata": {},
     "output_type": "execute_result"
    }
   ],
   "source": [
    "import re\n",
    "\n",
    "email = 'dzasdf@gmail.com'\n",
    "pattern_id = re.compile(r'^[^@]+', re.I)\n",
    "id = re.findall(pattern_id, email)\n",
    "id\n"
   ]
  },
  {
   "cell_type": "code",
   "execution_count": 12,
   "outputs": [
    {
     "data": {
      "text/plain": "['(', ')', ',', ':', ';', '<', '>', '@', '[', '\\\\', ']']"
     },
     "execution_count": 12,
     "metadata": {},
     "output_type": "execute_result"
    }
   ],
   "source": [
    "invalidos = r'( ) , : ; < > @ [ \\ ]'.split(' ')\n",
    "invalidos"
   ],
   "metadata": {
    "collapsed": false
   }
  },
  {
   "cell_type": "code",
   "execution_count": 15,
   "outputs": [
    {
     "data": {
      "text/plain": "['(', ')', ',', ':', ';', '<', '>', '@', '[', '\\\\', ']']"
     },
     "execution_count": 15,
     "metadata": {},
     "output_type": "execute_result"
    }
   ],
   "source": [
    "invalidos"
   ],
   "metadata": {
    "collapsed": false
   }
  },
  {
   "cell_type": "code",
   "execution_count": 1,
   "outputs": [
    {
     "name": "stdout",
     "output_type": "stream",
     "text": [
      "(False, 'Email nao contem @')\n",
      "(False, 'Email nao contem identificador')\n",
      "(False, 'Identificador muito longo < 64')\n",
      "(True, 'Email valido')\n"
     ]
    }
   ],
   "source": [
    "import validador as val\n",
    "\n",
    "v = val.Validador()\n",
    "\n",
    "print(v.validar_email('mauriciocalheiro95gmail.com'))\n",
    "print(v.validar_email('@gmail.com'))\n",
    "print(v.validar_email('mauriciocalheiro95'*4 + '@gmail.com'))\n",
    "print(v.validar_email('sdasudhsau@asduisadh.com'))\n"
   ],
   "metadata": {
    "collapsed": false
   }
  },
  {
   "cell_type": "code",
   "execution_count": 52,
   "outputs": [],
   "source": [
    "import re\n",
    "cpf = '01193154243'\n",
    "\n",
    "def cpf_calcular_verificador(cpf):\n",
    "    \"\"\"\n",
    "    Calcula digito verificador de CPF.\n",
    "    :param cpf: str\n",
    "    :return:\n",
    "    \"\"\"\n",
    "\n",
    "    digitos = list(cpf[:-2])\n",
    "    resultado = []\n",
    "    for i in range(len(digitos)):\n",
    "        resultado.append((i+1)*int(digitos[i]))\n",
    "\n",
    "    verificador_1 = sum(resultado) % 11\n",
    "\n",
    "    if verificador_1 >= 10:\n",
    "        verificador_1 = 0\n",
    "\n",
    "    resultado = []\n",
    "    digitos.append(str(verificador_1))\n",
    "    for i in range(len(digitos)):\n",
    "        resultado.append(i*int(digitos[i]))\n",
    "\n",
    "    verificador_2 = sum(resultado) % 11\n",
    "\n",
    "    if verificador_2 >= 10:\n",
    "        verificador_2 = 0\n",
    "\n",
    "    return f'{verificador_1}{verificador_2}'\n",
    "\n",
    "def cpf_remover_tracos_e_pontos(cpf):\n",
    "    \"\"\"\n",
    "    Remove tracos e pontos do CPF,\n",
    "    deixando somente digitos.\n",
    "    :param cpf: str\n",
    "    :return: str\n",
    "    \"\"\"\n",
    "\n",
    "    pattern = r'\\.|-'\n",
    "    return re.sub(pattern, '', cpf)\n",
    "\n",
    "def cpf_digitos(cpf):\n",
    "    \"\"\"\n",
    "    Obtém somente digitos do CPF.\n",
    "    :param cpf: str\n",
    "    :return: str\n",
    "    \"\"\"\n",
    "\n",
    "    cpf = cpf_remover_tracos_e_pontos(cpf)\n",
    "    return cpf[:-2]\n",
    "\n",
    "\n",
    "def cpf_verificador(cpf):\n",
    "    \"\"\"\n",
    "    Obtém somente verificador do CPF.\n",
    "    :param cpf: str\n",
    "    :return: str\n",
    "    \"\"\"\n",
    "\n",
    "    cpf = cpf_remover_tracos_e_pontos(cpf)\n",
    "    return cpf[-2:]"
   ],
   "metadata": {
    "collapsed": false
   }
  },
  {
   "cell_type": "code",
   "execution_count": 55,
   "outputs": [
    {
     "data": {
      "text/plain": "('011931542', '43')"
     },
     "execution_count": 55,
     "metadata": {},
     "output_type": "execute_result"
    }
   ],
   "source": [
    "cpf = '011.931.542-43'\n",
    "cpf = cpf_remover_tracos_e_pontos(cpf)\n",
    "cpf_digitos(cpf), cpf_verificador(cpf)\n",
    "\n"
   ],
   "metadata": {
    "collapsed": false
   }
  },
  {
   "cell_type": "code",
   "execution_count": 63,
   "outputs": [
    {
     "ename": "SyntaxError",
     "evalue": "invalid syntax (2073211853.py, line 3)",
     "output_type": "error",
     "traceback": [
      "\u001B[1;36m  Cell \u001B[1;32mIn [63], line 3\u001B[1;36m\u001B[0m\n\u001B[1;33m    is not a b\u001B[0m\n\u001B[1;37m    ^\u001B[0m\n\u001B[1;31mSyntaxError\u001B[0m\u001B[1;31m:\u001B[0m invalid syntax\n"
     ]
    }
   ],
   "source": [
    "a = 'sd'\n",
    "b = 'sda'\n",
    " a is b"
   ],
   "metadata": {
    "collapsed": false
   }
  },
  {
   "cell_type": "code",
   "execution_count": 24,
   "outputs": [
    {
     "data": {
      "text/plain": "[]"
     },
     "execution_count": 24,
     "metadata": {},
     "output_type": "execute_result"
    }
   ],
   "source": [
    "import re\n",
    "\n",
    "dominio = re.compile(r'(?<=@)(.*?)(?=\\.)', re.I)\n",
    "s = 'mauriciocalheiro95@'\n",
    "re.findall(dominio, s)\n"
   ],
   "metadata": {
    "collapsed": false
   }
  },
  {
   "cell_type": "code",
   "execution_count": 74,
   "outputs": [
    {
     "data": {
      "text/plain": "'1234'"
     },
     "execution_count": 74,
     "metadata": {},
     "output_type": "execute_result"
    }
   ],
   "source": [
    "cpf = '000.0----------00-000-1234'\n",
    "cpf = cpf[-1::-1]\n",
    "x=cpf.find('-')\n",
    "cpf[:x][-1::-1]\n"
   ],
   "metadata": {
    "collapsed": false
   }
  }
 ],
 "metadata": {
  "kernelspec": {
   "display_name": "Python 3",
   "language": "python",
   "name": "python3"
  },
  "language_info": {
   "codemirror_mode": {
    "name": "ipython",
    "version": 2
   },
   "file_extension": ".py",
   "mimetype": "text/x-python",
   "name": "python",
   "nbconvert_exporter": "python",
   "pygments_lexer": "ipython2",
   "version": "2.7.6"
  }
 },
 "nbformat": 4,
 "nbformat_minor": 0
}
